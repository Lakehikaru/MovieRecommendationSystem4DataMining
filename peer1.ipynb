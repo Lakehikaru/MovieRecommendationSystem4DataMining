{
 "cells": [
  {
   "cell_type": "markdown",
   "metadata": {},
   "source": [
    "# 数据探索性分析与数据预处理"
   ]
  },
  {
   "cell_type": "code",
   "execution_count": 124,
   "metadata": {},
   "outputs": [],
   "source": [
    "import numpy as np\n",
    "from scipy import stats\n",
    "import matplotlib.pyplot as plt\n",
    "import seaborn as sns\n",
    "import pandas as pd"
   ]
  },
  {
   "cell_type": "markdown",
   "metadata": {},
   "source": [
    "## Trending YouTube Video Statistics"
   ]
  },
  {
   "cell_type": "code",
   "execution_count": 125,
   "metadata": {},
   "outputs": [
    {
     "name": "stdout",
     "output_type": "stream",
     "text": [
      "video_id                   6351\n",
      "trending_date               205\n",
      "title                      6455\n",
      "channel_title              2207\n",
      "category_id                  16\n",
      "publish_time               6269\n",
      "tags                       6055\n",
      "views                     40478\n",
      "likes                     29850\n",
      "dislikes                   8516\n",
      "comment_count             13773\n",
      "thumbnail_link             6352\n",
      "comments_disabled             2\n",
      "ratings_disabled              2\n",
      "video_error_or_removed        2\n",
      "description                6901\n",
      "dtype: int64\n"
     ]
    }
   ],
   "source": [
    "df_ytb = pd.read_csv(\"./YTB/USvideos.csv\")\n",
    "print(df_ytb.nunique())"
   ]
  },
  {
   "cell_type": "code",
   "execution_count": 126,
   "metadata": {},
   "outputs": [
    {
     "name": "stdout",
     "output_type": "stream",
     "text": [
      "<class 'pandas.core.frame.DataFrame'>\n",
      "RangeIndex: 40949 entries, 0 to 40948\n",
      "Data columns (total 16 columns):\n",
      " #   Column                  Non-Null Count  Dtype \n",
      "---  ------                  --------------  ----- \n",
      " 0   video_id                40949 non-null  object\n",
      " 1   trending_date           40949 non-null  object\n",
      " 2   title                   40949 non-null  object\n",
      " 3   channel_title           40949 non-null  object\n",
      " 4   category_id             40949 non-null  int64 \n",
      " 5   publish_time            40949 non-null  object\n",
      " 6   tags                    40949 non-null  object\n",
      " 7   views                   40949 non-null  int64 \n",
      " 8   likes                   40949 non-null  int64 \n",
      " 9   dislikes                40949 non-null  int64 \n",
      " 10  comment_count           40949 non-null  int64 \n",
      " 11  thumbnail_link          40949 non-null  object\n",
      " 12  comments_disabled       40949 non-null  bool  \n",
      " 13  ratings_disabled        40949 non-null  bool  \n",
      " 14  video_error_or_removed  40949 non-null  bool  \n",
      " 15  description             40379 non-null  object\n",
      "dtypes: bool(3), int64(5), object(8)\n",
      "memory usage: 4.2+ MB\n"
     ]
    }
   ],
   "source": [
    "#查找缺失值以及数据类型\n",
    "df_ytb.info()"
   ]
  },
  {
   "cell_type": "markdown",
   "metadata": {},
   "source": [
    "可以发现本数据集没有缺失值，因此无需进行数据缺失处理。"
   ]
  },
  {
   "cell_type": "markdown",
   "metadata": {},
   "source": [
    "### 数据可视化和摘要"
   ]
  },
  {
   "cell_type": "markdown",
   "metadata": {},
   "source": [
    "标称属性有trending_date（在榜日期），category_id（视频分类id），tags（视频标签），comments_disabled（评论是否关闭），ratings_disabled（评分是否关闭），video_error_or_removed（视频是否不可用）"
   ]
  },
  {
   "cell_type": "code",
   "execution_count": 127,
   "metadata": {},
   "outputs": [
    {
     "name": "stdout",
     "output_type": "stream",
     "text": [
      "18.25.01    200\n",
      "17.07.12    200\n",
      "18.09.03    200\n",
      "18.23.03    200\n",
      "18.10.02    200\n",
      "           ... \n",
      "18.31.01    197\n",
      "18.01.02    197\n",
      "18.04.02    196\n",
      "18.02.02    196\n",
      "18.03.02    196\n",
      "Name: trending_date, Length: 205, dtype: int64\n"
     ]
    }
   ],
   "source": [
    "treCount = df_ytb['trending_date'].value_counts()\n",
    "print(treCount)\n"
   ]
  },
  {
   "cell_type": "code",
   "execution_count": 128,
   "metadata": {},
   "outputs": [
    {
     "name": "stdout",
     "output_type": "stream",
     "text": [
      "24    9964\n",
      "10    6472\n",
      "26    4146\n",
      "23    3457\n",
      "22    3210\n",
      "25    2487\n",
      "28    2401\n",
      "1     2345\n",
      "17    2174\n",
      "27    1656\n",
      "15     920\n",
      "20     817\n",
      "19     402\n",
      "2      384\n",
      "43      57\n",
      "29      57\n",
      "Name: category_id, dtype: int64\n"
     ]
    }
   ],
   "source": [
    "cateIdCount = df_ytb['category_id'].value_counts()\n",
    "print(cateIdCount)\n"
   ]
  },
  {
   "cell_type": "code",
   "execution_count": 129,
   "metadata": {},
   "outputs": [
    {
     "name": "stdout",
     "output_type": "stream",
     "text": [
      "[none]                                                                                                                                                                                                                                                                                                                                                                                                                                                             1535\n",
      "ABC|\"americanidol\"|\"idol\"|\"american idol\"|\"ryan\"|\"seacrest\"|\"ryan seacrest\"|\"katy\"|\"perry\"|\"katy perry\"|\"luke\"|\"bryan\"|\"luke bryan\"|\"lionel\"|\"richie\"|\"lionel richie\"|\"season 16\"|\"american idol XVI\"|\"television\"|\"ad\"|\"spring\"|\"2018\"|\"music\"|\"reality\"|\"competition\"|\"song\"|\"sing\"|\"audition\"|\"auditions\"|\"performance\"|\"live\"|\"fox\"|\"AI\"|\"hollywood\"|\"contestant\"|\"official\"|\"american\"|\"official american idol\"|\"hollywood week\"|\"hometown audition\"            87\n",
      "Jacksfilms|\"Jack Douglass\"|\"YGS\"|\"YGS 100\"|\"YGS 50\"|\"The Best of Your Grammar Sucks\"|\"Your Grammar Sucks\"|\"YIAY\"|\"Yesterday I Asked You\"|\"Fidget Spinners\"|\"Emoji Movie\"|\"Kermit Sings\"|\"JackAsk\"|\"Jack Ask\"|\"Dubstep Solves Everything\"|\"Frozen 2\"|\"iPhone Parody\"|\"Apple Parody\"                                                                                                                                                                                   80\n",
      "James Corden|\"The Late Late Show\"|\"Colbert\"|\"late night\"|\"late night show\"|\"Stephen Colbert\"|\"Comedy\"|\"monologue\"|\"comedian\"|\"impressions\"|\"celebrities\"|\"carpool\"|\"karaoke\"|\"CBS\"|\"Late Late Show\"|\"Corden\"|\"joke\"|\"jokes\"|\"funny\"|\"funny video\"|\"funny videos\"|\"humor\"|\"celebrity\"|\"celeb\"|\"hollywood\"|\"famous\"                                                                                                                                                    71\n",
      "The Late Show|\"Stephen Colbert\"|\"Colbert\"|\"Late Show\"|\"celebrities\"|\"late night\"|\"talk show\"|\"skits\"|\"bit\"|\"monologue\"|\"The Late Late Show\"|\"Late Late Show\"|\"letterman\"|\"david letterman\"|\"comedian\"|\"impressions\"|\"CBS\"|\"joke\"|\"jokes\"|\"funny\"|\"funny video\"|\"funny videos\"|\"humor\"|\"celebrity\"|\"celeb\"|\"hollywood\"|\"famous\"|\"James Corden\"|\"Corden\"|\"Comedy\"                                                                                                      66\n",
      "                                                                                                                                                                                                                                                                                                                                                                                                                                                                   ... \n",
      "espn|\"espn live\"|\"76ers\"|\"sixers\"|\"philadelphia 76ers\"|\"joel embiid\"|\"trust the process\"|\"markelle fultz\"|\"fultz\"|\"ben\"|\"simmons\"|\"ben simmons\"|\"first take\"|\"espn first\"|\"first take today\"|\"first take daily\"|\"first take live\"|\"stephen a. smith\"|\"stephen a smith\"|\"stephen a.\"|\"stephen a\"|\"max kellerman\"|\"max\"|\"first\"|\"take\"|\"stephen\"|\"smith\"|\"first take espn\"|\"espn first take\"|\"first take stephen a smith\"|\"nba first take\"|\"first take nba\"             1\n",
      "ultra music festival|\"umf\"|\"mix\"|\"relive\"|\"after movie\"|\"worldwide\"|\"edm\"|\"dance\"|\"house\"|\"trance\"|\"techno\"                                                                                                                                                                                                                                                                                                                                                           1\n",
      "RIhanna|\"Grammy 2018\"|\"Kemdrick Lamar\"                                                                                                                                                                                                                                                                                                                                                                                                                                1\n",
      "ice skating music|\"figure skating music\"|\"ice skating\"|\"figure skating\"|\"Vox.com\"|\"vox\"|\"explain\"|\"explainer\"|\"adam rippon\"|\"carmen\"|\"swan lake\"|\"turn down for what\"|\"jimmy ma\"|\"olympics 2018\"|\"olympics\"|\"winter olympics\"|\"mirai nagasu\"|\"triple axel\"|\"olympic games\"|\"pyeongchang\"|\"skating\"|\"2018 winter olympics\"|\"south korea\"|\"winter olympic games\"|\"2018 olympics\"|\"mirai nagasu 2018\"|\"ioc\"|\"free skate\"|\"team usa\"|\"adam rippon interview\"|\"lgbt\"       1\n",
      "vox.com|\"vox\"|\"explain\"|\"zimbabwe\"|\"coup\"|\"military coup\"|\"mugabe\"|\"robert mugabe\"|\"mnangagwa\"|\"africa\"|\"rhodesia\"|\"bob mugabe\"|\"grace mugabe\"|\"cou d'etat\"|\"government\"|\"military\"|\"conflict\"|\"sub saharan africa\"|\"protests\"|\"army\"|\"tanks\"|\"harare\"|\"dictator\"|\"dictatorship\"|\"politics\"|\"corruption\"|\"zanu pf\"|\"politicians\"|\"coup d'etat\"|\"south africa\"|\"news\"|\"african\"|\"gucci grace\"                                                                          1\n",
      "Name: tags, Length: 6055, dtype: int64\n"
     ]
    }
   ],
   "source": [
    "tagsCount = df_ytb['tags'].value_counts()\n",
    "print(tagsCount)"
   ]
  },
  {
   "cell_type": "code",
   "execution_count": 130,
   "metadata": {},
   "outputs": [
    {
     "name": "stdout",
     "output_type": "stream",
     "text": [
      "False    40316\n",
      "True       633\n",
      "Name: comments_disabled, dtype: int64\n"
     ]
    }
   ],
   "source": [
    "comDisCount = df_ytb['comments_disabled'].value_counts()\n",
    "print(comDisCount)"
   ]
  },
  {
   "cell_type": "code",
   "execution_count": 131,
   "metadata": {},
   "outputs": [
    {
     "name": "stdout",
     "output_type": "stream",
     "text": [
      "False    40780\n",
      "True       169\n",
      "Name: ratings_disabled, dtype: int64\n"
     ]
    }
   ],
   "source": [
    "ratDisCount = df_ytb['ratings_disabled'].value_counts()\n",
    "print(ratDisCount)"
   ]
  },
  {
   "cell_type": "code",
   "execution_count": 132,
   "metadata": {},
   "outputs": [
    {
     "name": "stdout",
     "output_type": "stream",
     "text": [
      "False    40926\n",
      "True        23\n",
      "Name: video_error_or_removed, dtype: int64\n"
     ]
    }
   ],
   "source": [
    "vidInvalidCount = df_ytb['video_error_or_removed'].value_counts()\n",
    "print(vidInvalidCount)"
   ]
  },
  {
   "cell_type": "markdown",
   "metadata": {},
   "source": [
    "数值属性有views（观看数）， likes（喜欢数）， dislikes（不喜欢数）， comment_count（评论数）"
   ]
  },
  {
   "cell_type": "code",
   "execution_count": 133,
   "metadata": {},
   "outputs": [
    {
     "name": "stdout",
     "output_type": "stream",
     "text": [
      "0.00          549.0\n",
      "0.25       242329.0\n",
      "0.50       681861.0\n",
      "0.75      1823157.0\n",
      "1.00    225211923.0\n",
      "Name: views, dtype: float64\n",
      "缺失值个数：0\n"
     ]
    }
   ],
   "source": [
    "print(df_ytb['views'].quantile([0,0.25,0.5,0.75,1]))\n",
    "print(\"缺失值个数：\" + str(df_ytb['views'].isnull().sum()))"
   ]
  },
  {
   "cell_type": "code",
   "execution_count": 134,
   "metadata": {},
   "outputs": [
    {
     "data": {
      "image/png": "[encoded data removed]",
      "text/plain": [
       "<Figure size 432x288 with 1 Axes>"
      ]
     },
     "metadata": {
      "needs_background": "light"
     },
     "output_type": "display_data"
    }
   ],
   "source": [
    "views_plot = sns.boxplot(data = df_ytb, y=df_ytb['views'], orient='v',fliersize = 0.1)\n",
    "views_plot.set_yscale('log')"
   ]
  },
  {
   "cell_type": "code",
   "execution_count": 135,
   "metadata": {},
   "outputs": [
    {
     "name": "stdout",
     "output_type": "stream",
     "text": [
      "0.00          0.0\n",
      "0.25       5424.0\n",
      "0.50      18091.0\n",
      "0.75      55417.0\n",
      "1.00    5613827.0\n",
      "Name: likes, dtype: float64\n",
      "缺失值个数：0\n"
     ]
    }
   ],
   "source": [
    "print(df_ytb['likes'].quantile([0,0.25,0.5,0.75,1]))\n",
    "print(\"缺失值个数：\" + str(df_ytb['likes'].isnull().sum()))"
   ]
  },
  {
   "cell_type": "code",
   "execution_count": 136,
   "metadata": {},
   "outputs": [
    {
     "name": "stderr",
     "output_type": "stream",
     "text": [
      "C:\\Users\\lakeh\\anaconda3\\lib\\site-packages\\seaborn\\_core.py:1312: UserWarning: Horizontal orientation ignored with only `y` specified.\n",
      "  warnings.warn(single_var_warning.format(\"Horizontal\", \"y\"))\n"
     ]
    },
    {
     "data": {
      "image/png": "[encoded data removed]",
      "text/plain": [
       "<Figure size 432x288 with 1 Axes>"
      ]
     },
     "metadata": {
      "needs_background": "light"
     },
     "output_type": "display_data"
    }
   ],
   "source": [
    "like_plot = sns.boxplot(data = df_ytb, y=df_ytb['likes'], orient='h',fliersize = 1)\n",
    "like_plot.set_yscale('log')\n"
   ]
  },
  {
   "cell_type": "code",
   "execution_count": 137,
   "metadata": {},
   "outputs": [
    {
     "name": "stdout",
     "output_type": "stream",
     "text": [
      "0.00          0.0\n",
      "0.25        202.0\n",
      "0.50        631.0\n",
      "0.75       1938.0\n",
      "1.00    1674420.0\n",
      "Name: dislikes, dtype: float64\n",
      "缺失值个数：0\n"
     ]
    }
   ],
   "source": [
    "print(df_ytb['dislikes'].quantile([0,0.25,0.5,0.75,1]))\n",
    "print(\"缺失值个数：\" + str(df_ytb['dislikes'].isnull().sum()))"
   ]
  },
  {
   "cell_type": "code",
   "execution_count": 138,
   "metadata": {},
   "outputs": [
    {
     "name": "stderr",
     "output_type": "stream",
     "text": [
      "C:\\Users\\lakeh\\anaconda3\\lib\\site-packages\\seaborn\\_core.py:1312: UserWarning: Horizontal orientation ignored with only `y` specified.\n",
      "  warnings.warn(single_var_warning.format(\"Horizontal\", \"y\"))\n"
     ]
    },
    {
     "data": {
      "image/png": "[encoded data removed]",
      "text/plain": [
       "<Figure size 432x288 with 1 Axes>"
      ]
     },
     "metadata": {
      "needs_background": "light"
     },
     "output_type": "display_data"
    }
   ],
   "source": [
    "dislike_plot = sns.boxplot(data = df_ytb, y=df_ytb['dislikes'], orient='h',fliersize = 1)\n",
    "dislike_plot.set_yscale('log')"
   ]
  },
  {
   "cell_type": "code",
   "execution_count": 139,
   "metadata": {},
   "outputs": [
    {
     "name": "stdout",
     "output_type": "stream",
     "text": [
      "0.00          0.0\n",
      "0.25        614.0\n",
      "0.50       1856.0\n",
      "0.75       5755.0\n",
      "1.00    1361580.0\n",
      "Name: comment_count, dtype: float64\n",
      "缺失值个数：0\n"
     ]
    }
   ],
   "source": [
    "print(df_ytb['comment_count'].quantile([0,0.25,0.5,0.75,1]))\n",
    "print(\"缺失值个数：\" + str(df_ytb['comment_count'].isnull().sum()))"
   ]
  },
  {
   "cell_type": "code",
   "execution_count": 140,
   "metadata": {},
   "outputs": [
    {
     "name": "stderr",
     "output_type": "stream",
     "text": [
      "C:\\Users\\lakeh\\anaconda3\\lib\\site-packages\\seaborn\\_core.py:1312: UserWarning: Horizontal orientation ignored with only `y` specified.\n",
      "  warnings.warn(single_var_warning.format(\"Horizontal\", \"y\"))\n"
     ]
    },
    {
     "data": {
      "image/png": "[encoded data removed]",
      "text/plain": [
       "<Figure size 432x288 with 1 Axes>"
      ]
     },
     "metadata": {
      "needs_background": "light"
     },
     "output_type": "display_data"
    }
   ],
   "source": [
    "comment_plot = sns.boxplot(data = df_ytb, y=df_ytb['comment_count'], orient='h',fliersize = 1)\n",
    "comment_plot.set_yscale('log')"
   ]
  },
  {
   "cell_type": "markdown",
   "metadata": {},
   "source": [
    "### 数据缺失的处理"
   ]
  },
  {
   "cell_type": "markdown",
   "metadata": {},
   "source": [
    "## Wine Reviews"
   ]
  },
  {
   "cell_type": "code",
   "execution_count": 141,
   "metadata": {},
   "outputs": [
    {
     "name": "stdout",
     "output_type": "stream",
     "text": [
      "Unnamed: 0     150930\n",
      "country            48\n",
      "description     97821\n",
      "designation     30621\n",
      "points             21\n",
      "price             357\n",
      "province          455\n",
      "region_1         1236\n",
      "region_2           18\n",
      "variety           632\n",
      "winery          14810\n",
      "dtype: int64\n"
     ]
    }
   ],
   "source": [
    "df_wine = pd.read_csv(\"./wine/winemag-data_first150k.csv\",delimiter=',',low_memory=False)\n",
    "print(df_wine.nunique())"
   ]
  },
  {
   "cell_type": "code",
   "execution_count": 142,
   "metadata": {},
   "outputs": [
    {
     "name": "stdout",
     "output_type": "stream",
     "text": [
      "<class 'pandas.core.frame.DataFrame'>\n",
      "RangeIndex: 150930 entries, 0 to 150929\n",
      "Data columns (total 11 columns):\n",
      " #   Column       Non-Null Count   Dtype  \n",
      "---  ------       --------------   -----  \n",
      " 0   Unnamed: 0   150930 non-null  int64  \n",
      " 1   country      150925 non-null  object \n",
      " 2   description  150930 non-null  object \n",
      " 3   designation  105195 non-null  object \n",
      " 4   points       150930 non-null  int64  \n",
      " 5   price        137235 non-null  float64\n",
      " 6   province     150925 non-null  object \n",
      " 7   region_1     125870 non-null  object \n",
      " 8   region_2     60953 non-null   object \n",
      " 9   variety      150930 non-null  object \n",
      " 10  winery       150930 non-null  object \n",
      "dtypes: float64(1), int64(2), object(8)\n",
      "memory usage: 12.7+ MB\n"
     ]
    }
   ],
   "source": [
    "df_wine.info()"
   ]
  },
  {
   "cell_type": "markdown",
   "metadata": {},
   "source": [
    "可以发现，有缺失的数据有country(国家)，designation（名称），price(价格)，province（产地省份），region_1,region2(产地)"
   ]
  },
  {
   "cell_type": "markdown",
   "metadata": {},
   "source": [
    "标称属性有"
   ]
  },
  {
   "cell_type": "markdown",
   "metadata": {},
   "source": [
    "### 数据可视化和摘要"
   ]
  },
  {
   "cell_type": "markdown",
   "metadata": {},
   "source": [
    "标称属性有country(国家)，province（产地省份），region_1,region2(产地)，variety（品种），winery（酒厂）"
   ]
  },
  {
   "cell_type": "code",
   "execution_count": 143,
   "metadata": {},
   "outputs": [
    {
     "name": "stdout",
     "output_type": "stream",
     "text": [
      "US                        62397\n",
      "Italy                     23478\n",
      "France                    21098\n",
      "Spain                      8268\n",
      "Chile                      5816\n",
      "Argentina                  5631\n",
      "Portugal                   5322\n",
      "Australia                  4957\n",
      "New Zealand                3320\n",
      "Austria                    3057\n",
      "Germany                    2452\n",
      "South Africa               2258\n",
      "Greece                      884\n",
      "Israel                      630\n",
      "Hungary                     231\n",
      "Canada                      196\n",
      "Romania                     139\n",
      "Slovenia                     94\n",
      "Uruguay                      92\n",
      "Croatia                      89\n",
      "Bulgaria                     77\n",
      "Moldova                      71\n",
      "Mexico                       63\n",
      "Turkey                       52\n",
      "Georgia                      43\n",
      "Lebanon                      37\n",
      "Cyprus                       31\n",
      "Brazil                       25\n",
      "Macedonia                    16\n",
      "Serbia                       14\n",
      "Morocco                      12\n",
      "England                       9\n",
      "Luxembourg                    9\n",
      "India                         8\n",
      "Lithuania                     8\n",
      "Czech Republic                6\n",
      "Ukraine                       5\n",
      "Bosnia and Herzegovina        4\n",
      "Switzerland                   4\n",
      "South Korea                   4\n",
      "Slovakia                      3\n",
      "China                         3\n",
      "Egypt                         3\n",
      "Montenegro                    2\n",
      "Albania                       2\n",
      "Japan                         2\n",
      "Tunisia                       2\n",
      "US-France                     1\n",
      "Name: country, dtype: int64\n"
     ]
    }
   ],
   "source": [
    "counbCount = df_wine['country'].value_counts()\n",
    "print(counbCount)"
   ]
  },
  {
   "cell_type": "code",
   "execution_count": 144,
   "metadata": {},
   "outputs": [
    {
     "name": "stdout",
     "output_type": "stream",
     "text": [
      "Reserve                          2752\n",
      "Reserva                          1810\n",
      "Estate                           1571\n",
      "Barrel sample                    1326\n",
      "Riserva                           754\n",
      "                                 ... \n",
      "Il Matané                           1\n",
      "'Nearly Naked'                      1\n",
      "Toyon                               1\n",
      "Grauschiefer Trocken                1\n",
      "Tenuta Oppida Aminea Caracena       1\n",
      "Name: designation, Length: 30621, dtype: int64\n"
     ]
    }
   ],
   "source": [
    "desCount = df_wine['designation'].value_counts()\n",
    "print(desCount)"
   ]
  },
  {
   "cell_type": "code",
   "execution_count": 145,
   "metadata": {},
   "outputs": [
    {
     "name": "stdout",
     "output_type": "stream",
     "text": [
      "California                       44508\n",
      "Washington                        9750\n",
      "Tuscany                           7281\n",
      "Bordeaux                          6111\n",
      "Northern Spain                    4892\n",
      "                                 ...  \n",
      "Casablanca-Curicó Valley             1\n",
      "Santa Barbara County-Condrieu        1\n",
      "Ioannina                             1\n",
      "Malgas                               1\n",
      "Ella Valley                          1\n",
      "Name: province, Length: 455, dtype: int64\n"
     ]
    }
   ],
   "source": [
    "provCount = df_wine['province'].value_counts()\n",
    "print(provCount)"
   ]
  },
  {
   "cell_type": "code",
   "execution_count": 146,
   "metadata": {},
   "outputs": [
    {
     "name": "stdout",
     "output_type": "stream",
     "text": [
      "Napa Valley             6209\n",
      "Columbia Valley (WA)    4975\n",
      "Mendoza                 3586\n",
      "Russian River Valley    3571\n",
      "California              3462\n",
      "                        ... \n",
      "Ischia                     1\n",
      "Gambellara Classico        1\n",
      "Mâcon-Péronne              1\n",
      "Lugana Superiore           1\n",
      "Chignin-Bergeron           1\n",
      "Name: region_1, Length: 1236, dtype: int64\n"
     ]
    }
   ],
   "source": [
    "reg1Count = df_wine['region_1'].value_counts()\n",
    "print(reg1Count)"
   ]
  },
  {
   "cell_type": "code",
   "execution_count": 147,
   "metadata": {},
   "outputs": [
    {
     "name": "stdout",
     "output_type": "stream",
     "text": [
      "Central Coast              13057\n",
      "Sonoma                     11258\n",
      "Columbia Valley             9157\n",
      "Napa                        8801\n",
      "California Other            3516\n",
      "Willamette Valley           3181\n",
      "Mendocino/Lake Counties     2389\n",
      "Sierra Foothills            1660\n",
      "Napa-Sonoma                 1645\n",
      "Finger Lakes                1510\n",
      "Central Valley              1115\n",
      "Long Island                  771\n",
      "Southern Oregon              662\n",
      "Oregon Other                 661\n",
      "North Coast                  632\n",
      "Washington Other             593\n",
      "South Coast                  198\n",
      "New York Other               147\n",
      "Name: region_2, dtype: int64\n"
     ]
    }
   ],
   "source": [
    "reg2Count = df_wine['region_2'].value_counts()\n",
    "print(reg2Count)"
   ]
  },
  {
   "cell_type": "code",
   "execution_count": 148,
   "metadata": {},
   "outputs": [
    {
     "name": "stdout",
     "output_type": "stream",
     "text": [
      "Chardonnay                  14482\n",
      "Pinot Noir                  14291\n",
      "Cabernet Sauvignon          12800\n",
      "Red Blend                   10062\n",
      "Bordeaux-style Red Blend     7347\n",
      "                            ...  \n",
      "Rebula                          1\n",
      "Chinuri                         1\n",
      "Moscatel Graúdo                 1\n",
      "Sauvignonasse                   1\n",
      "Sarba                           1\n",
      "Name: variety, Length: 632, dtype: int64\n"
     ]
    }
   ],
   "source": [
    "varCount = df_wine['variety'].value_counts()\n",
    "print(varCount)"
   ]
  },
  {
   "cell_type": "code",
   "execution_count": 149,
   "metadata": {},
   "outputs": [
    {
     "name": "stdout",
     "output_type": "stream",
     "text": [
      "Williams Selyem          374\n",
      "Testarossa               274\n",
      "DFJ Vinhos               258\n",
      "Chateau Ste. Michelle    225\n",
      "Columbia Crest           217\n",
      "                        ... \n",
      "Imagine                    1\n",
      "Château Gamage             1\n",
      "Westside Red               1\n",
      "Oak and Vine               1\n",
      "Lothian Vineyards          1\n",
      "Name: winery, Length: 14810, dtype: int64\n"
     ]
    }
   ],
   "source": [
    "wineryCount = df_wine['winery'].value_counts()\n",
    "print(wineryCount)"
   ]
  },
  {
   "cell_type": "markdown",
   "metadata": {},
   "source": [
    "数值属性有points（得分），price（价格），各属性缺失值个数和五数概括见下。"
   ]
  },
  {
   "cell_type": "code",
   "execution_count": 150,
   "metadata": {},
   "outputs": [
    {
     "name": "stdout",
     "output_type": "stream",
     "text": [
      "0.00     80.0\n",
      "0.25     86.0\n",
      "0.50     88.0\n",
      "0.75     90.0\n",
      "1.00    100.0\n",
      "Name: points, dtype: float64\n",
      "缺失值个数：0\n"
     ]
    }
   ],
   "source": [
    "print(df_wine['points'].quantile([0,0.25,0.5,0.75,1]))\n",
    "print(\"缺失值个数：\" + str(df_wine['points'].isnull().sum()))"
   ]
  },
  {
   "cell_type": "code",
   "execution_count": 151,
   "metadata": {},
   "outputs": [
    {
     "data": {
      "image/png": "[encoded data removed]",
      "text/plain": [
       "<Figure size 432x288 with 1 Axes>"
      ]
     },
     "metadata": {
      "needs_background": "light"
     },
     "output_type": "display_data"
    }
   ],
   "source": [
    "ptsPlot = sns.boxplot(data = df_wine, y=df_wine['points'], orient='v',fliersize = 0.1)"
   ]
  },
  {
   "cell_type": "code",
   "execution_count": 152,
   "metadata": {},
   "outputs": [
    {
     "name": "stdout",
     "output_type": "stream",
     "text": [
      "0.00       4.0\n",
      "0.25      16.0\n",
      "0.50      24.0\n",
      "0.75      40.0\n",
      "1.00    2300.0\n",
      "Name: price, dtype: float64\n",
      "缺失值个数：13695\n"
     ]
    }
   ],
   "source": [
    "print(df_wine['price'].quantile([0,0.25,0.5,0.75,1]))\n",
    "print(\"缺失值个数：\" + str(df_wine['price'].isnull().sum()))"
   ]
  },
  {
   "cell_type": "code",
   "execution_count": 153,
   "metadata": {},
   "outputs": [
    {
     "data": {
      "image/png": "[encoded data removed]",
      "text/plain": [
       "<Figure size 432x288 with 1 Axes>"
      ]
     },
     "metadata": {
      "needs_background": "light"
     },
     "output_type": "display_data"
    }
   ],
   "source": [
    "priPlot = sns.boxplot(data = df_wine, y=df_wine['price'], orient='v',fliersize = 0.1)\n",
    "priPlot.set_yscale('log')"
   ]
  },
  {
   "cell_type": "markdown",
   "metadata": {},
   "source": [
    "### 数据缺失的处理"
   ]
  },
  {
   "cell_type": "markdown",
   "metadata": {},
   "source": [
    "数值属性中，price有缺失值。"
   ]
  },
  {
   "cell_type": "markdown",
   "metadata": {},
   "source": [
    "#### 剔除缺失部分"
   ]
  },
  {
   "cell_type": "code",
   "execution_count": 154,
   "metadata": {},
   "outputs": [
    {
     "data": {
      "image/png": "[encoded data removed]",
      "text/plain": [
       "<Figure size 432x288 with 1 Axes>"
      ]
     },
     "metadata": {
      "needs_background": "light"
     },
     "output_type": "display_data"
    }
   ],
   "source": [
    "priceFull = pd.DataFrame(df_wine[['price']].dropna())\n",
    "priceFullPlot = sns.boxplot(data=priceFull, orient='v',fliersize = 0.1)\n",
    "priceFullPlot.set_yscale('log')"
   ]
  },
  {
   "cell_type": "markdown",
   "metadata": {},
   "source": [
    "#### 用最高频率值来填补缺失值"
   ]
  },
  {
   "cell_type": "code",
   "execution_count": 155,
   "metadata": {},
   "outputs": [
    {
     "data": {
      "image/png": "[encoded data removed]",
      "text/plain": [
       "<Figure size 432x288 with 1 Axes>"
      ]
     },
     "metadata": {
      "needs_background": "light"
     },
     "output_type": "display_data"
    }
   ],
   "source": [
    "priceFreq = pd.DataFrame(df_wine['price'].fillna(stats.mode(df_wine['price'])[0][0]))\n",
    "priceFreqPlot = sns.boxplot(data=priceFreq, orient='v',fliersize = 0.1)\n",
    "priceFreqPlot.set_yscale('log')"
   ]
  },
  {
   "cell_type": "markdown",
   "metadata": {},
   "source": [
    "#### 通过属性的相关关系来填补缺失值"
   ]
  },
  {
   "cell_type": "code",
   "execution_count": 156,
   "metadata": {},
   "outputs": [
    {
     "data": {
      "text/plain": [
       "LinearRegression()"
      ]
     },
     "execution_count": 156,
     "metadata": {},
     "output_type": "execute_result"
    }
   ],
   "source": [
    "from sklearn.linear_model import LinearRegression\n",
    "\n",
    "num = df_wine[['points','price']]\n",
    "numNa = df_wine[['points','price']][np.isnan(numeric['price'])]\n",
    "numDropNa = num.dropna().astype(int)\n",
    "\n",
    "#输入数据\n",
    "LR = LinearRegression()\n",
    "LR.fit(numDropNa['points'].to_numpy().reshape(-1,1), numDropNa['price'].to_numpy())"
   ]
  },
  {
   "cell_type": "code",
   "execution_count": 157,
   "metadata": {},
   "outputs": [],
   "source": [
    "#进行预测\n",
    "LRPred = LR.predict(numNa['points'].to_numpy().reshape(-1,1))\n",
    "numNa['price'] = LRPred\n",
    "predPrice = numDropNa.append(numNa).astype(int)['price'].to_numpy()"
   ]
  },
  {
   "cell_type": "code",
   "execution_count": 158,
   "metadata": {},
   "outputs": [
    {
     "data": {
      "image/png": "[encoded data removed]",
      "text/plain": [
       "<Figure size 432x288 with 1 Axes>"
      ]
     },
     "metadata": {
      "needs_background": "light"
     },
     "output_type": "display_data"
    }
   ],
   "source": [
    "fillFreqPlot = sns.histplot(x = predPrice)\n",
    "fillFreqPlot.set_xticks(range(0,max(predPrice)))\n",
    "fillFreqPlot.set_xscale('log')"
   ]
  },
  {
   "cell_type": "code",
   "execution_count": 159,
   "metadata": {},
   "outputs": [
    {
     "data": {
      "image/png": "[encoded data removed]",
      "text/plain": [
       "<Figure size 432x288 with 1 Axes>"
      ]
     },
     "metadata": {
      "needs_background": "light"
     },
     "output_type": "display_data"
    }
   ],
   "source": [
    "sns.boxplot(y = predPrice,fliersize=1).set_yscale('log')"
   ]
  },
  {
   "cell_type": "markdown",
   "metadata": {},
   "source": [
    "#### 通过数据对象之间的相似性来填补缺失值"
   ]
  },
  {
   "cell_type": "code",
   "execution_count": 160,
   "metadata": {},
   "outputs": [],
   "source": [
    "from sklearn.neighbors import KNeighborsRegressor"
   ]
  },
  {
   "cell_type": "code",
   "execution_count": 161,
   "metadata": {},
   "outputs": [],
   "source": [
    "KNN_instance = KNeighborsRegressor(n_neighbors = 10, weights = \"distance\")\n",
    "KNN_instance.fit(numDropNa['points'].to_numpy().reshape(-1,1), numDropNa['price'].to_numpy())\n",
    "\n",
    "knn = KNN_instance.predict(numNa['points'].to_numpy().reshape(-1,1))\n",
    "numNa['price']= knn\n",
    "\n",
    "predKNN = numDropNa.append(numNa).astype(int)['price'].to_numpy()\n"
   ]
  },
  {
   "cell_type": "code",
   "execution_count": 162,
   "metadata": {},
   "outputs": [
    {
     "data": {
      "image/png": "[encoded data removed]",
      "text/plain": [
       "<Figure size 432x288 with 1 Axes>"
      ]
     },
     "metadata": {
      "needs_background": "light"
     },
     "output_type": "display_data"
    }
   ],
   "source": [
    "fillKNNPlot = sns.histplot(x = predKNN)\n",
    "fillKNNPlot.set_xticks(range(0,max(predKNN)))\n",
    "fillKNNPlot.set_xscale('log')"
   ]
  },
  {
   "cell_type": "code",
   "execution_count": 163,
   "metadata": {},
   "outputs": [
    {
     "data": {
      "image/png": "[encoded data removed]",
      "text/plain": [
       "<Figure size 432x288 with 1 Axes>"
      ]
     },
     "metadata": {
      "needs_background": "light"
     },
     "output_type": "display_data"
    }
   ],
   "source": [
    "sns.boxplot(y = predKNN,fliersize=1).set_yscale('log')"
   ]
  }
 ],
 "metadata": {
  "interpreter": {
   "hash": "efbaad7632843aa071614e1f4ff4a584b1230e725e303492cd6d4999eec4d11a"
  },
  "kernelspec": {
   "display_name": "Python 3.8.12 ('main')",
   "language": "python",
   "name": "python3"
  },
  "language_info": {
   "codemirror_mode": {
    "name": "ipython",
    "version": 3
   },
   "file_extension": ".py",
   "mimetype": "text/x-python",
   "name": "python",
   "nbconvert_exporter": "python",
   "pygments_lexer": "ipython3",
   "version": "3.8.8"
  },
  "orig_nbformat": 4
 },
 "nbformat": 4,
 "nbformat_minor": 2
}
